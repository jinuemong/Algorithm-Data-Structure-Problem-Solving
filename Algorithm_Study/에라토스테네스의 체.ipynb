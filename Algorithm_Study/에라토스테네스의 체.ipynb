{
 "cells": [
  {
   "attachments": {},
   "cell_type": "markdown",
   "metadata": {},
   "source": [
    "### 소수의 판별법\n",
    "\n",
    "소수를 판별하는 가장 간편한 방법이다.\n",
    "소수란 2보다 큰 자연수 중에서 1과 자기 자신을 제외한 자연수로는 나누어떨어지지 않는 자연수이다.\n",
    "\n",
    "ex > 6 : 1,2,3,6을 약수로 가지므로 소수가 아님\n",
    "ex > 7 : 1,7 만 약수로 가지므로 소수\n",
    "\n"
   ]
  },
  {
   "cell_type": "code",
   "execution_count": null,
   "metadata": {},
   "outputs": [],
   "source": [
    "\n",
    "# 가장 간단한 소수 판별법\n",
    "# 모든 수를 나누어서 소수를 구함\n",
    "\n",
    "def is_prime_number(n):\n",
    "\n",
    "    # 2부터 n -1 까지 모든 수를 확인 \n",
    "    for i in range(2,n):\n",
    "        # n이 해당 수로 나누어 떨어지는 지 확인\n",
    "        if n % i == 0:\n",
    "            return False\n",
    "    return True\n",
    "\n",
    "print(is_prime_number(6))\n",
    "print(is_prime_number(7))"
   ]
  },
  {
   "attachments": {},
   "cell_type": "markdown",
   "metadata": {},
   "source": [
    "\n",
    "### 알고리즘 개선 방법\n",
    "\n",
    "16의 약수로 예시를 보면,\n",
    "\n",
    "1. 1 * 16\n",
    "2. 2 * 8\n",
    "3. 4 * 4\n",
    "4. 8 * 2\n",
    "5. 16 * 1\n",
    "\n",
    "- 가운데 약수를 기준으로 대칭을 가짐\n",
    "- 가운데 약수까지만 확인 (제곱근)\n",
    "- 시간 복잡도가 O(루트(n))으로 감소 "
   ]
  },
  {
   "cell_type": "code",
   "execution_count": null,
   "metadata": {},
   "outputs": [],
   "source": [
    "# 제곱근을 활용한 약수 탐색\n",
    "\n",
    "import math\n",
    "\n",
    "def is_prime_number(n):\n",
    "\n",
    "    for i in range(2, int(math.sqrt(n))+1):\n",
    "        # n이 해당 수로 나누어 떨어지는 지 확인\n",
    "        if n % i ==0:\n",
    "            return False\n",
    "    return True\n"
   ]
  },
  {
   "attachments": {},
   "cell_type": "markdown",
   "metadata": {},
   "source": [
    "### 알고리즘 개선 : 에라토스테네스의 체\n",
    "\n",
    "여러 개의 수가 소수인지 아닌지 판별할 때 사용하는 대표 알고리즘\n",
    "n 보다 작거나 같은 모든 소수를 찾을 때 사용\n",
    "\n",
    "1. 2부터 n까지의 모든 자연수를 나열\n",
    "2. 남은 수 중에서 아직 처리하지 않은 가장 작은 수 i를 찾음\n",
    "3. 남은 수 중에서 i의 배수를 모두 제거\n",
    "4. 더 이상 반복할 수 없을 때까지 2,3번 반복 \n",
    "\n",
    "\n",
    "- 결과로 남은 배열이 소수이다.\n",
    "- 적은 수부터 배수를 차례로 소거했기 때문\n",
    "- NloglogN의 시간복잡도로 아주 빠름 "
   ]
  },
  {
   "cell_type": "code",
   "execution_count": null,
   "metadata": {},
   "outputs": [],
   "source": [
    "# 에라토스테네스의 체 활용\n",
    "\n",
    "import math\n",
    "\n",
    "n = 1000\n",
    "array = [True for i in range(n+1)]\n",
    "\n",
    "# 알고리즘 구현\n",
    "for i in range(2,int(math.sqrt(n))+ 1):\n",
    "    if array[i] == True: # 소수 발견\n",
    "        # 해당 소수를 제외한 모든 배수 제거\n",
    "        j = 2 \n",
    "        while i * j <= n:\n",
    "            array[i*j] = False\n",
    "            j += 1\n",
    "\n",
    "for i in range(2,n+1):\n",
    "    if array[i]:\n",
    "        print(i,end=\" \")"
   ]
  },
  {
   "cell_type": "code",
   "execution_count": null,
   "metadata": {},
   "outputs": [],
   "source": []
  }
 ],
 "metadata": {
  "language_info": {
   "name": "python"
  },
  "orig_nbformat": 4
 },
 "nbformat": 4,
 "nbformat_minor": 2
}
