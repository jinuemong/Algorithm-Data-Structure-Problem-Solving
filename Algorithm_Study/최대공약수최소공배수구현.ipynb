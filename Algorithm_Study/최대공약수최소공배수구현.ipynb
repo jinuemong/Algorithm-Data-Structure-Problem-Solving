{
 "cells": [
  {
   "cell_type": "code",
   "execution_count": null,
   "metadata": {},
   "outputs": [],
   "source": [
    "a = 10\n",
    "b = 12 \n",
    "\n",
    "# 최대 공약수 구하기\n",
    "for i in range(min(a,b),0,-1):\n",
    "    if a%i == 0 and b % i == 0:\n",
    "        print(i)\n",
    "        break\n",
    "\n",
    "# 최소 공배수 구하기\n",
    "for i in range(max(a,b),a*b+1):\n",
    "    if i%a==0 and i%b == 0:\n",
    "        print(i)\n",
    "        break\n",
    "\n"
   ]
  },
  {
   "cell_type": "code",
   "execution_count": null,
   "metadata": {},
   "outputs": [],
   "source": []
  }
 ],
 "metadata": {
  "language_info": {
   "name": "python"
  },
  "orig_nbformat": 4
 },
 "nbformat": 4,
 "nbformat_minor": 2
}
