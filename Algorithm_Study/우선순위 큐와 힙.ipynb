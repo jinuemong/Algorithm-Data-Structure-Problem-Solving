{
 "cells": [
  {
   "attachments": {},
   "cell_type": "markdown",
   "metadata": {},
   "source": [
    "### 우선순위 큐와 힙\n",
    "\n",
    "일반적인 큐는 First in - First Out 구조\n",
    "어떤 부가적인 조건 없이 먼저 들어온 데이터가 먼저 나가는 구조 \n",
    "우선순위 큐는 들어간 순서에 관계없이 우선순위가 더 높은 데이터를 우선 출력\n",
    "\n",
    "-> 일반적으로 힙 자료구조를 가지고 구현\n",
    "\n",
    "#### 배열이나 연결리스트로 구현하지 않는 이유\n",
    " \n",
    "우선순위가 중간인 데이터를 삽입하는 과정에서 인덱스를 모두 한 칸씩 뒤로 미뤄야함\n",
    "\n",
    "-> 최악의 경우 O(n)의 시간 복잡도\n",
    "\n",
    "#### 힙에서의 삭제, 삽입\n",
    "\n",
    "힙의 삽입, 삭제는 모두 부모와 자식 간의 비교만 이루어짐\n",
    "이진 트리의 높이가 하나 증가할 때마다 저장 가능한 자료의 갯수는 2배 증가하며, 비교 연산 횟수는 1회 \n",
    "삭제, 삽입 모두 최악의 경우 O(log2N) 의 시간 복잡도를 가짐 \n",
    "\n",
    "배열이나 연결 리스트가 삭제 시에는 시간 복잡도의 우위를 접할지라도, 삽입의 시간 복잡도는 힙 기반이 월등\n"
   ]
  },
  {
   "attachments": {},
   "cell_type": "markdown",
   "metadata": {},
   "source": [
    "## 힙(Heap)\n",
    "\n",
    "힙은 완전 이진 트리이며 모든 노드에 저장된 값이 자식 노드보다 우선순위가 크거나 같다.\n",
    "직접 연결된 자식- 부모 노드 간의 크기만 비교하면 됨\n",
    "힙으로 우선순위 큐를 구현할 때에는 노드에 저장된 값을 우선순위로 봄 \n",
    "\n",
    "### 최대 힙\n",
    "\n",
    "- 완전 이진트리 이며, 루트 노드로 올라갈수록 저장된 값이 커지는 구조\n",
    "<img src = \"https://i.imgur.com/DeV6W7U.png\" >\n",
    "\n",
    "### 최소 힙\n",
    "\n",
    "- 완전 이진트리 이며, 루트 노드로 올라갈수록 저장된 값이 작아지는 구조\n",
    "<img src = \"https://i.imgur.com/lvXIQ8L.png\">\n"
   ]
  },
  {
   "cell_type": "markdown",
   "metadata": {},
   "source": []
  },
  {
   "cell_type": "code",
   "execution_count": null,
   "metadata": {
    "vscode": {
     "languageId": "plaintext"
    }
   },
   "outputs": [],
   "source": []
  },
  {
   "attachments": {},
   "cell_type": "markdown",
   "metadata": {},
   "source": [
    "### 힙 자료구조에 새로운 노드 추가\n",
    "\n",
    "- 새 노드를 우선순위가 가장 낮다는 가정, 맨 끝에 위치\n",
    "- 부모 노드와 우선 순위를 비교하며 위치를 바꿈\n",
    "- 새로 들어온 노드가 3이라고 가정\n",
    "\n",
    "<img src = \"https://i.imgur.com/VeuoJbK.png\">\n"
   ]
  },
  {
   "cell_type": "markdown",
   "metadata": {},
   "source": []
  }
 ],
 "metadata": {
  "language_info": {
   "name": "python"
  },
  "orig_nbformat": 4
 },
 "nbformat": 4,
 "nbformat_minor": 2
}
