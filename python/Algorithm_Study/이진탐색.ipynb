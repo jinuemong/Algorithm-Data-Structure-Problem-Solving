{
 "cells": [
  {
   "attachments": {},
   "cell_type": "markdown",
   "metadata": {},
   "source": [
    "## 이진탐색\n",
    "- 데이터가 정렬되어 있는 배열에서 특정 값을 찾는 방법\n",
    "- 임의의 값을 선택하여 찾고자 하는 값 x와 비교 \n",
    "- x가 중간 값보다 작으면 좌측, 크면 우측을 탐색 "
   ]
  },
  {
   "attachments": {},
   "cell_type": "markdown",
   "metadata": {},
   "source": [
    "### 이진 탐색 시간 복잡도 및 빅오 표기\n",
    "\n",
    "-  O(N log X)"
   ]
  },
  {
   "cell_type": "code",
   "execution_count": null,
   "metadata": {},
   "outputs": [],
   "source": [
    "# 반복문을 이용한 방법\n",
    "\n",
    "def BSearch(array, target):\n",
    "    low = 0\n",
    "    high = len(array) -1\n",
    "\n",
    "    while low <= high:\n",
    "        mid = (low + high) / 2\n",
    "\n",
    "        if array[mid] == target:\n",
    "            return mid\n",
    "        elif array[mid] > target:\n",
    "            high = mid -1\n",
    "        else:\n",
    "            low = mid +1\n",
    "    return -1 # 값을 찾지 못하는 경우\n"
   ]
  },
  {
   "cell_type": "code",
   "execution_count": null,
   "metadata": {},
   "outputs": [],
   "source": [
    "# 재귀함수를 이용한 호출 \n",
    "\n",
    "def BSearchRecursive(array, target, low, high):\n",
    "    if low > high:\n",
    "        return -1 # false\n",
    "    \n",
    "    mid = ( low + high )/2\n",
    "    if array[mid] == target:\n",
    "        return mid \n",
    "    elif array[mid] > target:\n",
    "        return BSearchRecursive(array,target,low,mid-1)\n",
    "    else:\n",
    "        return BSearchRecursive(array,target,mid+1,high)"
   ]
  },
  {
   "attachments": {},
   "cell_type": "markdown",
   "metadata": {},
   "source": [
    "### 예제 : N의 제곱근 구하기\n",
    "\n",
    "- 양의 정수 N 이 주어졌을 때 N의 제곱근 루트 N을 구하는 소스\n",
    "- 제곱근 값이 정수일 경우에만 출력한다\n",
    "\n",
    "N = 100 -> 10\n",
    "N = 25 -> 5\n",
    "N = 10 -> -1\n",
    "N = 1 -> 1"
   ]
  },
  {
   "cell_type": "code",
   "execution_count": null,
   "metadata": {},
   "outputs": [],
   "source": [
    "# 단순 문제풀이\n",
    "# 0 부터 n -1 까지 자연수를 하나씩 증가시켜 가면서 확인\n",
    "\n",
    "def squareRootLoop(n):\n",
    "    for i in range(0,n):\n",
    "        if i*i == n:\n",
    "            return i \n",
    "    return -1  # False\n"
   ]
  },
  {
   "cell_type": "code",
   "execution_count": null,
   "metadata": {},
   "outputs": [],
   "source": [
    "# 위의 경우는 결과 값이 자연수라면 루트 N 시간 안에 찾을 수 있지만,\n",
    "# 자연수가 아닌 경우는 N 만큼 탐색을 진행해야 한다. O(N) 시간이 든다\n",
    "# O(logN) 의 시간 복잡도를 목표로 코드를 작성한다\n",
    "\n",
    "# 0 부터 N 까지의 자연수 중에 N의 제곱근이 있는지 찾아본다 -> 이진탐색 적용\n",
    "\n",
    "def squareRootBSearch(n):\n",
    "    min = 0\n",
    "    max = n\n",
    "    \n",
    "    while min <= max:\n",
    "        guess = (min+max) /2\n",
    "        if guess * guess == n:\n",
    "            return guess\n",
    "        elif guess * guess > n:\n",
    "            max = guess -1\n",
    "        else:\n",
    "            min = guess +1\n",
    "    return -1"
   ]
  }
 ],
 "metadata": {
  "language_info": {
   "name": "python"
  },
  "orig_nbformat": 4
 },
 "nbformat": 4,
 "nbformat_minor": 2
}
