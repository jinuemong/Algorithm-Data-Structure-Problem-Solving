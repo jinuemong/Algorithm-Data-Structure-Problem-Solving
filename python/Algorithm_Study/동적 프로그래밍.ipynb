{
 "cells": [
  {
   "attachments": {},
   "cell_type": "markdown",
   "metadata": {},
   "source": [
    "## Dynamic Programming\n",
    "\n",
    "큰 문제를 작은 문제로 나누어 푸는 문제를 일컫는 말\n",
    "\n",
    "분할정복과 유사함\n",
    "\n",
    "\n",
    "분할 정복과 동적 프로그래밍의 차이는 작은 문제가 중복이 일어나는지의 차이이다.\n",
    "분할 정복은 큰 문제를 작게 나누어 푸는 방법이며, 동적 프로그래밍은 작은 문제들이 반복되는 것이다.\n",
    "\n",
    "동적 프로그래밍의 답은 일정하면 바꾸지 않는다.\n",
    "\n",
    "## 동적 프로그래밍 방법과 조건\n",
    "\n",
    "\n",
    "모든 작은 문제들을 한번만 풀어야 한다.\n",
    "정답을 구한 작은 문제들을 어딘가에 메모하고 큰 문제를 풀 때 작은 문제가 나타나면\n",
    "앞에서 메모한 결과를 이용해서 큰 문제를 푼다.\n",
    "\n",
    "동적 프로그래밍의 사용 조건은 아래와 같다.\n",
    "작은 문제가 반복이 일어나는 경우\n",
    "문제가 구할 때마다 정답이 같은 경우\n",
    "\n",
    "## Memoization\n",
    "\n",
    "\n",
    "메모제이션은 동적 프로그래밍에서 작은 문제들이 반복되고, 이 작은 문제들의 결과값이 항상 같은것을 이용한다.\n",
    "한번 계산한 작은 문제를 저장해놓고 다시 사용하는 것을 뜻한다.\n",
    "\n",
    "피보나치를 예로 들면 피보나치는 1, 1, 2, 3, 5,8.. 등의 수를 이루게 되는데,\n",
    "다음 수열 = 이전 수열 + 두단계 전 수열의 합 이라는 접화식을 갖는 수열이 됩니다.\n",
    "\n",
    "재귀 함수로 문제를 풀계되면 간단하게 풀수 있지만, n의 값이 클 경우 일정 수 이상의 순열을 구하기가 어렵다.\n",
    "\n",
    "\n",
    "피보나치 수열\n",
    "동적 계획법의 조건 두가지를 생각하면, 이를 동적 계획법으로 풀 수 있다.\n",
    "\n",
    "<img src=  \"https://img1.daumcdn.net/thumb/R1280x0/?scode=mtistory2&fname=https%3A%2F%2Ft1.daumcdn.net%2Fcfile%2Ftistory%2F99CB7C3A5CA87E1236\">\n",
    "\n",
    "1. 작은 문제들의 반복\n",
    "\n",
    "F(5)를 구하기 위해서 F(4), F(3)이 필요, 다시 F(4)를 구하기 위해서 F(3), F(2) 필요\n",
    "이러한 방식이 반복\n",
    "\n",
    "2. 같은 문제는 구할때 마다 정답이 같음\n",
    "\n",
    "첫번째, 두번째 수열은 항상 값이 1이며 3번째 수열은 언제나 값이 2\n",
    "언제나 정답이 같다는 사실이 적용\n",
    "\n"
   ]
  },
  {
   "cell_type": "code",
   "execution_count": null,
   "metadata": {},
   "outputs": [],
   "source": [
    "import sys \n",
    "# Bottom - up : 작은 문제부터 구하는 방법\n",
    "def fibonacci_bottom_up(n):\n",
    "    if n <= 1:\n",
    "        return n\n",
    "    \n",
    "    fir = 0\n",
    "    sec = 1 \n",
    "    for i in range(0,n-1):\n",
    "        next = fir+sec\n",
    "        fir = sec\n",
    "        sec = next\n",
    "    return next\n",
    "\n",
    "n = int(sys.stdin.readline())\n",
    "print(fibonacci_bottom_up(n))"
   ]
  },
  {
   "cell_type": "code",
   "execution_count": null,
   "metadata": {},
   "outputs": [],
   "source": [
    "# Top - down : 큰 문제부터 구하는 방법\n",
    "# 재귀함수로 구현하는 경우\n",
    "memo = []\n",
    "def fibonacci_top_down(n):\n",
    "    if memo[n] > 0:\n",
    "        return memo[n]\n",
    "    \n",
    "    if n <=1 :\n",
    "        memo[n] = n\n",
    "        return memo[n]\n",
    "    else :\n",
    "        memo[n] = fibonacci_top_down(n-1) + fibonacci_top_down(n-2)\n",
    "        return memo[n]\n",
    "\n",
    "memo = [0 for i in range(100)]\n",
    "n = int(sys.stdin.readline())\n",
    "print(fibonacci_top_down(n))"
   ]
  },
  {
   "attachments": {},
   "cell_type": "markdown",
   "metadata": {},
   "source": [
    "## 두 방법의 차이\n",
    "Top - Down의 경우 소스 가독성 증가 , 작성이 어려움\n",
    "Bottom - up의 경우는 푸기 쉽지만 소스의 가독성 저하 \n",
    "\n",
    "규칙을 찾는 것이 중요"
   ]
  },
  {
   "cell_type": "markdown",
   "metadata": {},
   "source": []
  }
 ],
 "metadata": {
  "language_info": {
   "name": "python"
  },
  "orig_nbformat": 4
 },
 "nbformat": 4,
 "nbformat_minor": 2
}
