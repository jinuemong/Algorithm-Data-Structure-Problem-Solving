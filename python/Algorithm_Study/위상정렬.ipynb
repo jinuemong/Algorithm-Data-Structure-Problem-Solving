{
 "cells": [
  {
   "attachments": {},
   "cell_type": "markdown",
   "metadata": {},
   "source": [
    "### 위상 정렬\n",
    "\n",
    "- 사이클이 없는 방향 그래프의 모든 노드를 방향성에 거스르지 않도록 순서대로 나열하는 것\n",
    "- ex> 선수과목을 고려한 학습 순서 설정 \n",
    "\n",
    "- 진입 차수 : 특정 노드로 들어오는 간선의 수\n",
    "- 진출 차수 : 특정 노드에서 나가는 간선의 수 \n",
    "\n",
    "<img src = \"https://img1.daumcdn.net/thumb/R1280x0/?scode=mtistory2&fname=https%3A%2F%2Fblog.kakaocdn.net%2Fdn%2FwoC56%2FbtqSATVz83E%2Fg2UxZcKmalJcaIbVpAmZO1%2Fimg.png\">"
   ]
  },
  {
   "attachments": {},
   "cell_type": "markdown",
   "metadata": {},
   "source": [
    "### 큐를 이용한 위상 정렬 알고리즘\n",
    "\n",
    "1. 진입차수가 0인 모든 노드를 큐에 넣음\n",
    "2. 큐가 빌 때까지 아래 과정 반복\n",
    "    1. 새롭게 진입차수가 0이 된 노드를 큐에 넣는다\n",
    "    2. 큐에서 원소를 꺼내 해당 노드에서 나가는 간선을 그래프에서 제거\n",
    "3. 결과적으로 각 노드가 큐에 들어온 순서가 위상 정렬을 수행한 결과와 같다.\n",
    "\n",
    "모든 정점을 방문하기 전에 큐가 비게 된다면 사이클이 존재한다고 단정한다.\n",
    "큐에서 마지막 원소까지 원소를 꺼낸 순서가 위상 정렬의 결과가 된다."
   ]
  },
  {
   "attachments": {},
   "cell_type": "markdown",
   "metadata": {},
   "source": [
    "<img src = \"https://velog.velcdn.com/images%2Fyounge%2Fpost%2F4731b5de-b1e0-488d-a614-7752d7d4fe53%2F%EC%BA%A1%EC%B2%98.JPG\">"
   ]
  },
  {
   "cell_type": "markdown",
   "metadata": {},
   "source": [
    "정점과 진입차수를 저장한 그래프를 만들고, 진입 차수가 0인 정점 1을 큐에 삽입"
   ]
  },
  {
   "cell_type": "markdown",
   "metadata": {},
   "source": [
    "<img src = \"https://velog.velcdn.com/images%2Fyounge%2Fpost%2F91cf9601-a53a-4bfe-b7ef-721ff6dda949%2F%EC%BA%A1%EC%B2%98.JPG\">"
   ]
  },
  {
   "cell_type": "markdown",
   "metadata": {},
   "source": [
    "정점 1에 연결된 간선을 제거한 후, 진입차수가 0이 된 정점 2를 큐에 삽입"
   ]
  },
  {
   "cell_type": "markdown",
   "metadata": {},
   "source": [
    "<img src = \"https://velog.velcdn.com/images%2Fyounge%2Fpost%2F39dc4cf2-bc67-44c3-a5d8-249770a57c23%2F%EC%BA%A1%EC%B2%98.JPG\">"
   ]
  },
  {
   "cell_type": "markdown",
   "metadata": {},
   "source": [
    "정점 2에 연결된 간선 제거 후 진입차수가 0이 된 정점 3을 큐에 삽입 "
   ]
  },
  {
   "cell_type": "markdown",
   "metadata": {},
   "source": [
    "<img src = \"https://velog.velcdn.com/images%2Fyounge%2Fpost%2F4955896b-f844-4023-8ddb-54056af637d2%2F%EC%BA%A1%EC%B2%98.JPG\">"
   ]
  },
  {
   "cell_type": "markdown",
   "metadata": {},
   "source": [
    "<img src = \"https://velog.velcdn.com/images%2Fyounge%2Fpost%2F7035869f-e294-422a-a249-d4082af91b2a%2Fimage.png\">"
   ]
  },
  {
   "cell_type": "markdown",
   "metadata": {},
   "source": [
    "결과적으로 1-> 2-> 3- > 4-> 5 의 순서로 위상 정렬이 완료된다.\n"
   ]
  },
  {
   "cell_type": "code",
   "execution_count": 1,
   "metadata": {},
   "outputs": [],
   "source": [
    "import sys\n",
    "from collections import deque\n",
    "input = sys.stdin.readline\n",
    "\n",
    "n,m = map(int,input().split())\n",
    "\n",
    "# 진입 차수 설정\n",
    "indegree = [0] * (n+1)\n",
    "graph = [[] for _ in range(n+1)]\n",
    "for i in range(m):\n",
    "    a,b = map(int, input().split())\n",
    "    graph[a].append(b)\n",
    "    indegree[b] += 1\n",
    "\n",
    "def topology_sort():\n",
    "    result = []\n",
    "    queue = deque()\n",
    "\n",
    "    for i in range(1, n+1):\n",
    "        # 진입차수 0인 정점\n",
    "        if indegree[i] ==0:\n",
    "            queue.append(i)\n",
    "    \n",
    "    while queue:\n",
    "        current = queue.popleft() # 원소 하나를 꺼냄\n",
    "        result.append(current)\n",
    "\n",
    "        for i in graph[current]:\n",
    "            # current로 부터 나가는 간선 제거\n",
    "            indegree[i] -= 1\n",
    "            # 간선이 0인게 발견되면 또다시 큐에 추가 \n",
    "            if indegree[i] == 0:\n",
    "                queue.append(i)\n",
    "    \n",
    "    for i in result:\n",
    "        print(i, end = ' ')\n",
    "\n",
    "topology_sort()"
   ]
  },
  {
   "cell_type": "code",
   "execution_count": null,
   "metadata": {},
   "outputs": [],
   "source": []
  }
 ],
 "metadata": {
  "kernelspec": {
   "display_name": "Python 3",
   "language": "python",
   "name": "python3"
  },
  "language_info": {
   "codemirror_mode": {
    "name": "ipython",
    "version": 3
   },
   "file_extension": ".py",
   "mimetype": "text/x-python",
   "name": "python",
   "nbconvert_exporter": "python",
   "pygments_lexer": "ipython3",
   "version": "3.11.2"
  },
  "orig_nbformat": 4
 },
 "nbformat": 4,
 "nbformat_minor": 2
}
